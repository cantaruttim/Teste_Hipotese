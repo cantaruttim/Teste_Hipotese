{
  "nbformat": 4,
  "nbformat_minor": 0,
  "metadata": {
    "colab": {
      "provenance": [],
      "authorship_tag": "ABX9TyObwoBFx8UnA1omJA6ZjIFp",
      "include_colab_link": true
    },
    "kernelspec": {
      "name": "python3",
      "display_name": "Python 3"
    },
    "language_info": {
      "name": "python"
    }
  },
  "cells": [
    {
      "cell_type": "markdown",
      "metadata": {
        "id": "view-in-github",
        "colab_type": "text"
      },
      "source": [
        "<a href=\"https://colab.research.google.com/github/cantaruttim/Teste_Hipotese/blob/main/TesteHipotese.ipynb\" target=\"_parent\"><img src=\"https://colab.research.google.com/assets/colab-badge.svg\" alt=\"Open In Colab\"/></a>"
      ]
    },
    {
      "cell_type": "code",
      "execution_count": 1,
      "metadata": {
        "id": "z7lvjI0xx6Yr"
      },
      "outputs": [],
      "source": [
        "import numpy as np\n",
        "import math\n",
        "from scipy.stats import norm"
      ]
    },
    {
      "cell_type": "code",
      "source": [
        "dados_originais = np.array([126. , 129.5, 133. , 133. , 136.5, 136.5, 140. , 140. , 140. ,\n",
        "                            140. , 143.5, 143.5, 143.5, 143.5, 143.5, 143.5, 147. , 147. ,\n",
        "                            147. , 147. , 147. , 147. , 147. , 150.5, 150.5, 150.5, 150.5,\n",
        "                            150.5, 150.5, 150.5, 150.5, 154. , 154. , 154. , 154. , 154. ,\n",
        "                            154. , 154. , 154. , 154. , 157.5, 157.5, 157.5, 157.5, 157.5,\n",
        "                            157.5, 157.5, 157.5, 157.5, 157.5, 161. , 161. , 161. , 161. ,\n",
        "                            161. , 161. , 161. , 161. , 161. , 161. , 164.5, 164.5, 164.5,\n",
        "                            164.5, 164.5, 164.5, 164.5, 164.5, 164.5, 168. , 168. , 168. ,\n",
        "                            168. , 168. , 168. , 168. , 168. , 171.5, 171.5, 171.5, 171.5,\n",
        "                            171.5, 171.5, 171.5, 175. , 175. , 175. , 175. , 175. , 175. ,\n",
        "                            178.5, 178.5, 178.5, 178.5, 182. , 182. , 185.5, 185.5, 189., 192.5])"
      ],
      "metadata": {
        "id": "2zV1YM5typcX"
      },
      "execution_count": null,
      "outputs": []
    },
    {
      "cell_type": "code",
      "source": [
        "# H0 (Hipótese Nula ==> Média = 159.25)\n",
        "H0_media = np.mean(dados_originais)\n",
        "H0_media"
      ],
      "metadata": {
        "colab": {
          "base_uri": "https://localhost:8080/"
        },
        "id": "H74Is-8gypf0",
        "outputId": "ddde271b-e275-495f-9be0-3eefd4466090"
      },
      "execution_count": null,
      "outputs": [
        {
          "output_type": "execute_result",
          "data": {
            "text/plain": [
              "159.25"
            ]
          },
          "metadata": {},
          "execution_count": 37
        }
      ]
    },
    {
      "cell_type": "code",
      "source": [
        "H0_desvio_padrao = np.std(dados_originais)\n",
        "H0_desvio_padrao"
      ],
      "metadata": {
        "colab": {
          "base_uri": "https://localhost:8080/"
        },
        "id": "dXhhM6f7ypkj",
        "outputId": "c48ffeee-266c-4dc0-e5f2-fc9a02b90eaa"
      },
      "execution_count": null,
      "outputs": [
        {
          "output_type": "execute_result",
          "data": {
            "text/plain": [
              "13.65"
            ]
          },
          "metadata": {},
          "execution_count": 4
        }
      ]
    },
    {
      "cell_type": "code",
      "source": [
        "dados_novos = dados_originais * 1.03\n",
        "dados_novos"
      ],
      "metadata": {
        "colab": {
          "base_uri": "https://localhost:8080/"
        },
        "id": "hcOAaZSrypnT",
        "outputId": "9f3da1a5-2748-4ca0-974d-8ce226616c91"
      },
      "execution_count": null,
      "outputs": [
        {
          "output_type": "execute_result",
          "data": {
            "text/plain": [
              "array([129.78 , 133.385, 136.99 , 136.99 , 140.595, 140.595, 144.2  ,\n",
              "       144.2  , 144.2  , 144.2  , 147.805, 147.805, 147.805, 147.805,\n",
              "       147.805, 147.805, 151.41 , 151.41 , 151.41 , 151.41 , 151.41 ,\n",
              "       151.41 , 151.41 , 155.015, 155.015, 155.015, 155.015, 155.015,\n",
              "       155.015, 155.015, 155.015, 158.62 , 158.62 , 158.62 , 158.62 ,\n",
              "       158.62 , 158.62 , 158.62 , 158.62 , 158.62 , 162.225, 162.225,\n",
              "       162.225, 162.225, 162.225, 162.225, 162.225, 162.225, 162.225,\n",
              "       162.225, 165.83 , 165.83 , 165.83 , 165.83 , 165.83 , 165.83 ,\n",
              "       165.83 , 165.83 , 165.83 , 165.83 , 169.435, 169.435, 169.435,\n",
              "       169.435, 169.435, 169.435, 169.435, 169.435, 169.435, 173.04 ,\n",
              "       173.04 , 173.04 , 173.04 , 173.04 , 173.04 , 173.04 , 173.04 ,\n",
              "       176.645, 176.645, 176.645, 176.645, 176.645, 176.645, 176.645,\n",
              "       180.25 , 180.25 , 180.25 , 180.25 , 180.25 , 180.25 , 183.855,\n",
              "       183.855, 183.855, 183.855, 187.46 , 187.46 , 191.065, 191.065,\n",
              "       194.67 , 198.275])"
            ]
          },
          "metadata": {},
          "execution_count": 5
        }
      ]
    },
    {
      "cell_type": "code",
      "source": [
        "H1_media = np.mean(dados_novos)\n",
        "H1_media"
      ],
      "metadata": {
        "colab": {
          "base_uri": "https://localhost:8080/"
        },
        "id": "FKuQR-hGypqn",
        "outputId": "edfad213-d9ad-4d84-d95c-60cde26a0942"
      },
      "execution_count": null,
      "outputs": [
        {
          "output_type": "execute_result",
          "data": {
            "text/plain": [
              "164.0275"
            ]
          },
          "metadata": {},
          "execution_count": 6
        }
      ]
    },
    {
      "cell_type": "code",
      "source": [
        "H1_desvio_padrao = np.std(dados_novos)\n",
        "H1_desvio_padrao"
      ],
      "metadata": {
        "colab": {
          "base_uri": "https://localhost:8080/"
        },
        "id": "8dQedbYfCx5u",
        "outputId": "f9a27a4a-6f8a-43f5-ba10-a1e3b100c282"
      },
      "execution_count": null,
      "outputs": [
        {
          "output_type": "execute_result",
          "data": {
            "text/plain": [
              "14.0595"
            ]
          },
          "metadata": {},
          "execution_count": 7
        }
      ]
    },
    {
      "cell_type": "code",
      "source": [
        "H1_n = len(dados_novos)\n",
        "H1_n"
      ],
      "metadata": {
        "colab": {
          "base_uri": "https://localhost:8080/"
        },
        "id": "GDpwxqitCx9T",
        "outputId": "3dceb982-26b6-4062-869c-35c337ce8724"
      },
      "execution_count": null,
      "outputs": [
        {
          "output_type": "execute_result",
          "data": {
            "text/plain": [
              "100"
            ]
          },
          "metadata": {},
          "execution_count": 8
        }
      ]
    },
    {
      "cell_type": "code",
      "source": [
        "alpha = 0.05"
      ],
      "metadata": {
        "id": "4ecRNvVLCyA7"
      },
      "execution_count": null,
      "outputs": []
    },
    {
      "cell_type": "markdown",
      "source": [
        "## Teste Z e Teste T\n",
        "\n",
        "$$Z = \\frac{\\bar{x} - 𝜇}{\\frac{σ}{\\sqrt{n}}}$$"
      ],
      "metadata": {
        "id": "vmHJmCL4DbSw"
      }
    },
    {
      "cell_type": "code",
      "source": [
        "from statsmodels.stats.weightstats import ztest"
      ],
      "metadata": {
        "id": "cg3TOrTSC1VV"
      },
      "execution_count": null,
      "outputs": []
    },
    {
      "cell_type": "code",
      "source": [
        "_, p = ztest(dados_originais, dados_novos,\n",
        "             value = H1_media - H0_media,\n",
        "             alternative='larger')"
      ],
      "metadata": {
        "id": "oph4kGd3C1Zb"
      },
      "execution_count": null,
      "outputs": []
    },
    {
      "cell_type": "code",
      "source": [
        "p"
      ],
      "metadata": {
        "colab": {
          "base_uri": "https://localhost:8080/"
        },
        "id": "xuCGaHqSC1dJ",
        "outputId": "33b1d189-0eb8-4113-f764-2dc237a9069e"
      },
      "execution_count": null,
      "outputs": [
        {
          "output_type": "execute_result",
          "data": {
            "text/plain": [
              "0.9999993877283934"
            ]
          },
          "metadata": {},
          "execution_count": 12
        }
      ]
    },
    {
      "cell_type": "code",
      "source": [
        "from scipy.stats import ttest_rel"
      ],
      "metadata": {
        "id": "kT0_Y5u5C1gU"
      },
      "execution_count": null,
      "outputs": []
    },
    {
      "cell_type": "code",
      "source": [
        "_, p = ttest_rel(dados_originais, dados_novos)\n",
        "p"
      ],
      "metadata": {
        "colab": {
          "base_uri": "https://localhost:8080/"
        },
        "id": "h4fVbl_5C_6U",
        "outputId": "aa7847f3-a990-486e-a97b-705c8b18adf8"
      },
      "execution_count": null,
      "outputs": [
        {
          "output_type": "execute_result",
          "data": {
            "text/plain": [
              "1.3167021402739274e-107"
            ]
          },
          "metadata": {},
          "execution_count": 14
        }
      ]
    },
    {
      "cell_type": "code",
      "source": [
        "alpha = 0.01\n",
        "if p <= alpha:\n",
        "  print('Hipótese nula rejeitada')\n",
        "else:\n",
        "  print('Hipótese alternativa rejeitada')"
      ],
      "metadata": {
        "colab": {
          "base_uri": "https://localhost:8080/"
        },
        "id": "kaUL5MMCC_-X",
        "outputId": "f9c2eebb-88c6-469b-9974-5ce2a108280a"
      },
      "execution_count": null,
      "outputs": [
        {
          "output_type": "stream",
          "name": "stdout",
          "text": [
            "Hipótese nula rejeitada\n"
          ]
        }
      ]
    },
    {
      "cell_type": "markdown",
      "source": [
        "### Exercício"
      ],
      "metadata": {
        "id": "eQuoZE5ANDd2"
      }
    },
    {
      "cell_type": "code",
      "source": [
        "dados = np.array([149. , 160., 147., 189., 175., 168., 156., 160., 152.])\n",
        "dados"
      ],
      "metadata": {
        "colab": {
          "base_uri": "https://localhost:8080/"
        },
        "id": "gl3GkUmsNFpw",
        "outputId": "7a283f5c-f57a-4a64-e2d3-7e62dbb53cad"
      },
      "execution_count": null,
      "outputs": [
        {
          "output_type": "execute_result",
          "data": {
            "text/plain": [
              "array([149., 160., 147., 189., 175., 168., 156., 160., 152.])"
            ]
          },
          "metadata": {},
          "execution_count": 40
        }
      ]
    },
    {
      "cell_type": "code",
      "source": [
        "dados_novos = np.array(dados) * 1.03\n",
        "dados_novos"
      ],
      "metadata": {
        "colab": {
          "base_uri": "https://localhost:8080/"
        },
        "id": "HTDZ2ZqeNouo",
        "outputId": "1faf6c45-9611-4948-d368-c90a9909282c"
      },
      "execution_count": null,
      "outputs": [
        {
          "output_type": "execute_result",
          "data": {
            "text/plain": [
              "array([153.47, 164.8 , 151.41, 194.67, 180.25, 173.04, 160.68, 164.8 ,\n",
              "       156.56])"
            ]
          },
          "metadata": {},
          "execution_count": 49
        }
      ]
    },
    {
      "cell_type": "code",
      "source": [
        "from scipy.stats import ttest_rel"
      ],
      "metadata": {
        "id": "pvZbwTl3NFtu"
      },
      "execution_count": null,
      "outputs": []
    },
    {
      "cell_type": "code",
      "source": [
        "_, p = ttest_rel(dados, dados_novos)\n",
        "p"
      ],
      "metadata": {
        "colab": {
          "base_uri": "https://localhost:8080/"
        },
        "id": "8cdpiTXANddp",
        "outputId": "60fb53af-fab8-421d-945a-b5e8c1a29847"
      },
      "execution_count": null,
      "outputs": [
        {
          "output_type": "execute_result",
          "data": {
            "text/plain": [
              "4.072922493930081e-10"
            ]
          },
          "metadata": {},
          "execution_count": 54
        }
      ]
    },
    {
      "cell_type": "code",
      "source": [
        "alpha = 0.01\n",
        "if p <= alpha:\n",
        "  print('Hipótese nula rejeitada')\n",
        "else:\n",
        "  print('Hipótese alternativa rejeitada')"
      ],
      "metadata": {
        "colab": {
          "base_uri": "https://localhost:8080/"
        },
        "id": "Ggt7CsWRNFw8",
        "outputId": "b7506656-ed7f-4373-f016-7954560a31fd"
      },
      "execution_count": null,
      "outputs": [
        {
          "output_type": "stream",
          "name": "stdout",
          "text": [
            "Hipótese nula rejeitada\n"
          ]
        }
      ]
    },
    {
      "cell_type": "code",
      "source": [
        "## Temos 99% de probabilidade de dizer que as alturas são diferentes. Portanto, rejeitamos a H0\n",
        "## e aceitamos a Hipótese Alternativa (H1)"
      ],
      "metadata": {
        "id": "EHHP3QC0NF1i"
      },
      "execution_count": null,
      "outputs": []
    },
    {
      "cell_type": "markdown",
      "source": [
        "# Teste X²"
      ],
      "metadata": {
        "id": "wYOxNPy8DNwI"
      }
    },
    {
      "cell_type": "code",
      "source": [
        "from scipy.stats import chi2_contingency"
      ],
      "metadata": {
        "id": "qL_32laHDN0N"
      },
      "execution_count": null,
      "outputs": []
    },
    {
      "cell_type": "code",
      "source": [
        "#tabela = np.array([[30, 20], [22, 28]])\n",
        "tabela = np.array([[45, 5], [5, 45]])"
      ],
      "metadata": {
        "id": "J9BwCefpDN2-"
      },
      "execution_count": null,
      "outputs": []
    },
    {
      "cell_type": "code",
      "source": [
        "tabela"
      ],
      "metadata": {
        "colab": {
          "base_uri": "https://localhost:8080/"
        },
        "id": "5K082oS8EBSp",
        "outputId": "25122974-ad33-4e53-e57d-3e269df16229"
      },
      "execution_count": null,
      "outputs": [
        {
          "output_type": "execute_result",
          "data": {
            "text/plain": [
              "array([[45,  5],\n",
              "       [ 5, 45]])"
            ]
          },
          "metadata": {},
          "execution_count": 22
        }
      ]
    },
    {
      "cell_type": "code",
      "source": [
        "tabela.shape"
      ],
      "metadata": {
        "colab": {
          "base_uri": "https://localhost:8080/"
        },
        "id": "3IVDv6iqDCR6",
        "outputId": "e401e8c8-77de-474b-ad8a-bd3ebd194dbf"
      },
      "execution_count": null,
      "outputs": [
        {
          "output_type": "execute_result",
          "data": {
            "text/plain": [
              "(2, 2)"
            ]
          },
          "metadata": {},
          "execution_count": 20
        }
      ]
    },
    {
      "cell_type": "code",
      "source": [
        "_, p, _, _ = chi2_contingency(tabela)\n",
        "p"
      ],
      "metadata": {
        "colab": {
          "base_uri": "https://localhost:8080/"
        },
        "id": "-vQ7VNGnDCWC",
        "outputId": "b0e40ae8-eb30-4972-8921-6bb95bdcd38a"
      },
      "execution_count": null,
      "outputs": [
        {
          "output_type": "execute_result",
          "data": {
            "text/plain": [
              "6.190717543917382e-15"
            ]
          },
          "metadata": {},
          "execution_count": 21
        }
      ]
    },
    {
      "cell_type": "code",
      "source": [
        "alpha = 0.05\n",
        "if p <= alpha:\n",
        "  print('Hipótese nula rejeitada')\n",
        "else:\n",
        "  print('Hipótese alternativa rejeitada')"
      ],
      "metadata": {
        "colab": {
          "base_uri": "https://localhost:8080/"
        },
        "id": "LlHMsJmPDCZV",
        "outputId": "4e55bef3-a119-4b8c-9152-250e181545ff"
      },
      "execution_count": null,
      "outputs": [
        {
          "output_type": "stream",
          "name": "stdout",
          "text": [
            "Hipótese nula rejeitada\n"
          ]
        }
      ]
    },
    {
      "cell_type": "markdown",
      "source": [
        "# Seleção de Atributo com testes de Hipóteses - univariate SelectFdr\n",
        "## Utilizado para feature selection por meio de testes de hipóteses\n",
        "\n",
        "Testes estatísticos univariados são aqueles que envolvem uma variável dependente, por exemplo, teste t ou teste z para comparação de médias\n",
        "\n",
        "Documentação: https://scikit-learn.org/stable/modules/generated/sklearn.feature_selection.SelectFpr.html#sklearn.feature_selection.SelectFpr\n",
        "\n",
        "False discovery rate: https://en.wikipedia.org/wiki/False_discovery_rate\n",
        "\n",
        "Proporção esperada de erros do tipo I. Um erro do tipo I é quando a hipótese nula é rejeitada incorretamente, ou seja, é obtido um falso positivo\n",
        "\n",
        "Erro I: https://www.statisticshowto.datasciencecentral.com/probability-and-statistics/statistics-definitions/type-i-error-type-ii-error-decision/"
      ],
      "metadata": {
        "id": "jnQ2TzSaDAB6"
      }
    },
    {
      "cell_type": "code",
      "source": [
        "import pandas as pd\n",
        "import numpy as np\n",
        "from sklearn.feature_selection import SelectFdr\n",
        "from sklearn.feature_selection import chi2\n",
        "from sklearn.naive_bayes import GaussianNB\n",
        "from sklearn.metrics import accuracy_score"
      ],
      "metadata": {
        "id": "cXnPwucwCyD8"
      },
      "execution_count": 1,
      "outputs": []
    },
    {
      "cell_type": "code",
      "source": [
        "dataset = pd.read_csv('ad.data', header=None)\n",
        "dataset.head()"
      ],
      "metadata": {
        "colab": {
          "base_uri": "https://localhost:8080/",
          "height": 235
        },
        "id": "_4t7nTjFETQA",
        "outputId": "37987f2f-6b44-4a2c-a2d0-8fdabade7e3d"
      },
      "execution_count": 2,
      "outputs": [
        {
          "output_type": "execute_result",
          "data": {
            "text/plain": [
              "   0     1       2     3     4     5     6     7     8     9     ...  1549  \\\n",
              "0   125   125  1.0000     1     0     0     0     0     0     0  ...     0   \n",
              "1    57   468  8.2105     1     0     0     0     0     0     0  ...     0   \n",
              "2    33   230  6.9696     1     0     0     0     0     0     0  ...     0   \n",
              "3    60   468  7.8000     1     0     0     0     0     0     0  ...     0   \n",
              "4    60   468  7.8000     1     0     0     0     0     0     0  ...     0   \n",
              "\n",
              "   1550  1551  1552  1553  1554  1555  1556  1557  1558  \n",
              "0     0     0     0     0     0     0     0     0   ad.  \n",
              "1     0     0     0     0     0     0     0     0   ad.  \n",
              "2     0     0     0     0     0     0     0     0   ad.  \n",
              "3     0     0     0     0     0     0     0     0   ad.  \n",
              "4     0     0     0     0     0     0     0     0   ad.  \n",
              "\n",
              "[5 rows x 1559 columns]"
            ],
            "text/html": [
              "\n",
              "\n",
              "  <div id=\"df-2cb5589a-b94e-4a81-b125-ba5adce4f1ad\">\n",
              "    <div class=\"colab-df-container\">\n",
              "      <div>\n",
              "<style scoped>\n",
              "    .dataframe tbody tr th:only-of-type {\n",
              "        vertical-align: middle;\n",
              "    }\n",
              "\n",
              "    .dataframe tbody tr th {\n",
              "        vertical-align: top;\n",
              "    }\n",
              "\n",
              "    .dataframe thead th {\n",
              "        text-align: right;\n",
              "    }\n",
              "</style>\n",
              "<table border=\"1\" class=\"dataframe\">\n",
              "  <thead>\n",
              "    <tr style=\"text-align: right;\">\n",
              "      <th></th>\n",
              "      <th>0</th>\n",
              "      <th>1</th>\n",
              "      <th>2</th>\n",
              "      <th>3</th>\n",
              "      <th>4</th>\n",
              "      <th>5</th>\n",
              "      <th>6</th>\n",
              "      <th>7</th>\n",
              "      <th>8</th>\n",
              "      <th>9</th>\n",
              "      <th>...</th>\n",
              "      <th>1549</th>\n",
              "      <th>1550</th>\n",
              "      <th>1551</th>\n",
              "      <th>1552</th>\n",
              "      <th>1553</th>\n",
              "      <th>1554</th>\n",
              "      <th>1555</th>\n",
              "      <th>1556</th>\n",
              "      <th>1557</th>\n",
              "      <th>1558</th>\n",
              "    </tr>\n",
              "  </thead>\n",
              "  <tbody>\n",
              "    <tr>\n",
              "      <th>0</th>\n",
              "      <td>125</td>\n",
              "      <td>125</td>\n",
              "      <td>1.0000</td>\n",
              "      <td>1</td>\n",
              "      <td>0</td>\n",
              "      <td>0</td>\n",
              "      <td>0</td>\n",
              "      <td>0</td>\n",
              "      <td>0</td>\n",
              "      <td>0</td>\n",
              "      <td>...</td>\n",
              "      <td>0</td>\n",
              "      <td>0</td>\n",
              "      <td>0</td>\n",
              "      <td>0</td>\n",
              "      <td>0</td>\n",
              "      <td>0</td>\n",
              "      <td>0</td>\n",
              "      <td>0</td>\n",
              "      <td>0</td>\n",
              "      <td>ad.</td>\n",
              "    </tr>\n",
              "    <tr>\n",
              "      <th>1</th>\n",
              "      <td>57</td>\n",
              "      <td>468</td>\n",
              "      <td>8.2105</td>\n",
              "      <td>1</td>\n",
              "      <td>0</td>\n",
              "      <td>0</td>\n",
              "      <td>0</td>\n",
              "      <td>0</td>\n",
              "      <td>0</td>\n",
              "      <td>0</td>\n",
              "      <td>...</td>\n",
              "      <td>0</td>\n",
              "      <td>0</td>\n",
              "      <td>0</td>\n",
              "      <td>0</td>\n",
              "      <td>0</td>\n",
              "      <td>0</td>\n",
              "      <td>0</td>\n",
              "      <td>0</td>\n",
              "      <td>0</td>\n",
              "      <td>ad.</td>\n",
              "    </tr>\n",
              "    <tr>\n",
              "      <th>2</th>\n",
              "      <td>33</td>\n",
              "      <td>230</td>\n",
              "      <td>6.9696</td>\n",
              "      <td>1</td>\n",
              "      <td>0</td>\n",
              "      <td>0</td>\n",
              "      <td>0</td>\n",
              "      <td>0</td>\n",
              "      <td>0</td>\n",
              "      <td>0</td>\n",
              "      <td>...</td>\n",
              "      <td>0</td>\n",
              "      <td>0</td>\n",
              "      <td>0</td>\n",
              "      <td>0</td>\n",
              "      <td>0</td>\n",
              "      <td>0</td>\n",
              "      <td>0</td>\n",
              "      <td>0</td>\n",
              "      <td>0</td>\n",
              "      <td>ad.</td>\n",
              "    </tr>\n",
              "    <tr>\n",
              "      <th>3</th>\n",
              "      <td>60</td>\n",
              "      <td>468</td>\n",
              "      <td>7.8000</td>\n",
              "      <td>1</td>\n",
              "      <td>0</td>\n",
              "      <td>0</td>\n",
              "      <td>0</td>\n",
              "      <td>0</td>\n",
              "      <td>0</td>\n",
              "      <td>0</td>\n",
              "      <td>...</td>\n",
              "      <td>0</td>\n",
              "      <td>0</td>\n",
              "      <td>0</td>\n",
              "      <td>0</td>\n",
              "      <td>0</td>\n",
              "      <td>0</td>\n",
              "      <td>0</td>\n",
              "      <td>0</td>\n",
              "      <td>0</td>\n",
              "      <td>ad.</td>\n",
              "    </tr>\n",
              "    <tr>\n",
              "      <th>4</th>\n",
              "      <td>60</td>\n",
              "      <td>468</td>\n",
              "      <td>7.8000</td>\n",
              "      <td>1</td>\n",
              "      <td>0</td>\n",
              "      <td>0</td>\n",
              "      <td>0</td>\n",
              "      <td>0</td>\n",
              "      <td>0</td>\n",
              "      <td>0</td>\n",
              "      <td>...</td>\n",
              "      <td>0</td>\n",
              "      <td>0</td>\n",
              "      <td>0</td>\n",
              "      <td>0</td>\n",
              "      <td>0</td>\n",
              "      <td>0</td>\n",
              "      <td>0</td>\n",
              "      <td>0</td>\n",
              "      <td>0</td>\n",
              "      <td>ad.</td>\n",
              "    </tr>\n",
              "  </tbody>\n",
              "</table>\n",
              "<p>5 rows × 1559 columns</p>\n",
              "</div>\n",
              "      <button class=\"colab-df-convert\" onclick=\"convertToInteractive('df-2cb5589a-b94e-4a81-b125-ba5adce4f1ad')\"\n",
              "              title=\"Convert this dataframe to an interactive table.\"\n",
              "              style=\"display:none;\">\n",
              "\n",
              "  <svg xmlns=\"http://www.w3.org/2000/svg\" height=\"24px\"viewBox=\"0 0 24 24\"\n",
              "       width=\"24px\">\n",
              "    <path d=\"M0 0h24v24H0V0z\" fill=\"none\"/>\n",
              "    <path d=\"M18.56 5.44l.94 2.06.94-2.06 2.06-.94-2.06-.94-.94-2.06-.94 2.06-2.06.94zm-11 1L8.5 8.5l.94-2.06 2.06-.94-2.06-.94L8.5 2.5l-.94 2.06-2.06.94zm10 10l.94 2.06.94-2.06 2.06-.94-2.06-.94-.94-2.06-.94 2.06-2.06.94z\"/><path d=\"M17.41 7.96l-1.37-1.37c-.4-.4-.92-.59-1.43-.59-.52 0-1.04.2-1.43.59L10.3 9.45l-7.72 7.72c-.78.78-.78 2.05 0 2.83L4 21.41c.39.39.9.59 1.41.59.51 0 1.02-.2 1.41-.59l7.78-7.78 2.81-2.81c.8-.78.8-2.07 0-2.86zM5.41 20L4 18.59l7.72-7.72 1.47 1.35L5.41 20z\"/>\n",
              "  </svg>\n",
              "      </button>\n",
              "\n",
              "\n",
              "\n",
              "    <div id=\"df-aa663ed5-8450-4e4b-bdd2-f06f7bbd0181\">\n",
              "      <button class=\"colab-df-quickchart\" onclick=\"quickchart('df-aa663ed5-8450-4e4b-bdd2-f06f7bbd0181')\"\n",
              "              title=\"Suggest charts.\"\n",
              "              style=\"display:none;\">\n",
              "\n",
              "<svg xmlns=\"http://www.w3.org/2000/svg\" height=\"24px\"viewBox=\"0 0 24 24\"\n",
              "     width=\"24px\">\n",
              "    <g>\n",
              "        <path d=\"M19 3H5c-1.1 0-2 .9-2 2v14c0 1.1.9 2 2 2h14c1.1 0 2-.9 2-2V5c0-1.1-.9-2-2-2zM9 17H7v-7h2v7zm4 0h-2V7h2v10zm4 0h-2v-4h2v4z\"/>\n",
              "    </g>\n",
              "</svg>\n",
              "      </button>\n",
              "    </div>\n",
              "\n",
              "<style>\n",
              "  .colab-df-quickchart {\n",
              "    background-color: #E8F0FE;\n",
              "    border: none;\n",
              "    border-radius: 50%;\n",
              "    cursor: pointer;\n",
              "    display: none;\n",
              "    fill: #1967D2;\n",
              "    height: 32px;\n",
              "    padding: 0 0 0 0;\n",
              "    width: 32px;\n",
              "  }\n",
              "\n",
              "  .colab-df-quickchart:hover {\n",
              "    background-color: #E2EBFA;\n",
              "    box-shadow: 0px 1px 2px rgba(60, 64, 67, 0.3), 0px 1px 3px 1px rgba(60, 64, 67, 0.15);\n",
              "    fill: #174EA6;\n",
              "  }\n",
              "\n",
              "  [theme=dark] .colab-df-quickchart {\n",
              "    background-color: #3B4455;\n",
              "    fill: #D2E3FC;\n",
              "  }\n",
              "\n",
              "  [theme=dark] .colab-df-quickchart:hover {\n",
              "    background-color: #434B5C;\n",
              "    box-shadow: 0px 1px 3px 1px rgba(0, 0, 0, 0.15);\n",
              "    filter: drop-shadow(0px 1px 2px rgba(0, 0, 0, 0.3));\n",
              "    fill: #FFFFFF;\n",
              "  }\n",
              "</style>\n",
              "\n",
              "    <script>\n",
              "      async function quickchart(key) {\n",
              "        const containerElement = document.querySelector('#' + key);\n",
              "        const charts = await google.colab.kernel.invokeFunction(\n",
              "            'suggestCharts', [key], {});\n",
              "      }\n",
              "    </script>\n",
              "\n",
              "      <script>\n",
              "\n",
              "function displayQuickchartButton(domScope) {\n",
              "  let quickchartButtonEl =\n",
              "    domScope.querySelector('#df-aa663ed5-8450-4e4b-bdd2-f06f7bbd0181 button.colab-df-quickchart');\n",
              "  quickchartButtonEl.style.display =\n",
              "    google.colab.kernel.accessAllowed ? 'block' : 'none';\n",
              "}\n",
              "\n",
              "        displayQuickchartButton(document);\n",
              "      </script>\n",
              "      <style>\n",
              "    .colab-df-container {\n",
              "      display:flex;\n",
              "      flex-wrap:wrap;\n",
              "      gap: 12px;\n",
              "    }\n",
              "\n",
              "    .colab-df-convert {\n",
              "      background-color: #E8F0FE;\n",
              "      border: none;\n",
              "      border-radius: 50%;\n",
              "      cursor: pointer;\n",
              "      display: none;\n",
              "      fill: #1967D2;\n",
              "      height: 32px;\n",
              "      padding: 0 0 0 0;\n",
              "      width: 32px;\n",
              "    }\n",
              "\n",
              "    .colab-df-convert:hover {\n",
              "      background-color: #E2EBFA;\n",
              "      box-shadow: 0px 1px 2px rgba(60, 64, 67, 0.3), 0px 1px 3px 1px rgba(60, 64, 67, 0.15);\n",
              "      fill: #174EA6;\n",
              "    }\n",
              "\n",
              "    [theme=dark] .colab-df-convert {\n",
              "      background-color: #3B4455;\n",
              "      fill: #D2E3FC;\n",
              "    }\n",
              "\n",
              "    [theme=dark] .colab-df-convert:hover {\n",
              "      background-color: #434B5C;\n",
              "      box-shadow: 0px 1px 3px 1px rgba(0, 0, 0, 0.15);\n",
              "      filter: drop-shadow(0px 1px 2px rgba(0, 0, 0, 0.3));\n",
              "      fill: #FFFFFF;\n",
              "    }\n",
              "  </style>\n",
              "\n",
              "      <script>\n",
              "        const buttonEl =\n",
              "          document.querySelector('#df-2cb5589a-b94e-4a81-b125-ba5adce4f1ad button.colab-df-convert');\n",
              "        buttonEl.style.display =\n",
              "          google.colab.kernel.accessAllowed ? 'block' : 'none';\n",
              "\n",
              "        async function convertToInteractive(key) {\n",
              "          const element = document.querySelector('#df-2cb5589a-b94e-4a81-b125-ba5adce4f1ad');\n",
              "          const dataTable =\n",
              "            await google.colab.kernel.invokeFunction('convertToInteractive',\n",
              "                                                     [key], {});\n",
              "          if (!dataTable) return;\n",
              "\n",
              "          const docLinkHtml = 'Like what you see? Visit the ' +\n",
              "            '<a target=\"_blank\" href=https://colab.research.google.com/notebooks/data_table.ipynb>data table notebook</a>'\n",
              "            + ' to learn more about interactive tables.';\n",
              "          element.innerHTML = '';\n",
              "          dataTable['output_type'] = 'display_data';\n",
              "          await google.colab.output.renderOutput(dataTable, element);\n",
              "          const docLink = document.createElement('div');\n",
              "          docLink.innerHTML = docLinkHtml;\n",
              "          element.appendChild(docLink);\n",
              "        }\n",
              "      </script>\n",
              "    </div>\n",
              "  </div>\n"
            ]
          },
          "metadata": {},
          "execution_count": 2
        }
      ]
    },
    {
      "cell_type": "code",
      "source": [
        "dataset.shape"
      ],
      "metadata": {
        "colab": {
          "base_uri": "https://localhost:8080/"
        },
        "id": "yCr6G1pfETUI",
        "outputId": "e36cc5b4-9066-42c7-ab80-7886ae713031"
      },
      "execution_count": 3,
      "outputs": [
        {
          "output_type": "execute_result",
          "data": {
            "text/plain": [
              "(3279, 1559)"
            ]
          },
          "metadata": {},
          "execution_count": 3
        }
      ]
    },
    {
      "cell_type": "code",
      "source": [
        "X = dataset.iloc[:, 0:1558].values\n",
        "X"
      ],
      "metadata": {
        "colab": {
          "base_uri": "https://localhost:8080/"
        },
        "id": "m_bz5FHOE020",
        "outputId": "6415e8c9-fb50-4b6b-83a1-9fbc5097e24c"
      },
      "execution_count": 4,
      "outputs": [
        {
          "output_type": "execute_result",
          "data": {
            "text/plain": [
              "array([[125.    , 125.    ,   1.    , ...,   0.    ,   0.    ,   0.    ],\n",
              "       [ 57.    , 468.    ,   8.2105, ...,   0.    ,   0.    ,   0.    ],\n",
              "       [ 33.    , 230.    ,   6.9696, ...,   0.    ,   0.    ,   0.    ],\n",
              "       ...,\n",
              "       [ 23.    , 120.    ,   5.2173, ...,   0.    ,   0.    ,   0.    ],\n",
              "       [  0.    ,   0.    ,   0.    , ...,   0.    ,   0.    ,   0.    ],\n",
              "       [ 40.    ,  40.    ,   1.    , ...,   0.    ,   0.    ,   0.    ]])"
            ]
          },
          "metadata": {},
          "execution_count": 4
        }
      ]
    },
    {
      "cell_type": "code",
      "source": [
        "y = dataset.iloc[:, 1558].values\n",
        "y"
      ],
      "metadata": {
        "colab": {
          "base_uri": "https://localhost:8080/"
        },
        "id": "0zLsl_R6E05-",
        "outputId": "c72fc7cd-2e07-4a38-c25f-3a92ed7b9466"
      },
      "execution_count": 5,
      "outputs": [
        {
          "output_type": "execute_result",
          "data": {
            "text/plain": [
              "array(['ad.', 'ad.', 'ad.', ..., 'nonad.', 'nonad.', 'nonad.'],\n",
              "      dtype=object)"
            ]
          },
          "metadata": {},
          "execution_count": 5
        }
      ]
    },
    {
      "cell_type": "code",
      "source": [
        "np.unique(y, return_counts=True)"
      ],
      "metadata": {
        "id": "pCklEC4YE09S",
        "colab": {
          "base_uri": "https://localhost:8080/"
        },
        "outputId": "e790c406-28cc-4b5c-9861-88f4c7bb7015"
      },
      "execution_count": 6,
      "outputs": [
        {
          "output_type": "execute_result",
          "data": {
            "text/plain": [
              "(array(['ad.', 'nonad.'], dtype=object), array([ 459, 2820]))"
            ]
          },
          "metadata": {},
          "execution_count": 6
        }
      ]
    },
    {
      "cell_type": "code",
      "source": [
        "naive1 = GaussianNB()\n",
        "naive1.fit(X, y)\n",
        "previsoes1 = naive1.predict(X)\n",
        "accuracy_score(y, previsoes1)"
      ],
      "metadata": {
        "id": "9Ng2K9tEE6Cp",
        "colab": {
          "base_uri": "https://localhost:8080/"
        },
        "outputId": "5f8edd82-64eb-4914-819d-53290dd54523"
      },
      "execution_count": 7,
      "outputs": [
        {
          "output_type": "execute_result",
          "data": {
            "text/plain": [
              "0.7813357731015553"
            ]
          },
          "metadata": {},
          "execution_count": 7
        }
      ]
    },
    {
      "cell_type": "code",
      "source": [
        "selecao = SelectFdr(chi2, alpha=0.05)\n",
        "X_novo = selecao.fit_transform(X, y)"
      ],
      "metadata": {
        "id": "wG2uMNkhE6GT"
      },
      "execution_count": 9,
      "outputs": []
    },
    {
      "cell_type": "code",
      "source": [
        "X.shape, X_novo.shape"
      ],
      "metadata": {
        "id": "B1kripaOE6Jf",
        "colab": {
          "base_uri": "https://localhost:8080/"
        },
        "outputId": "0575de41-1286-4bed-c599-15975d742fcf"
      },
      "execution_count": 10,
      "outputs": [
        {
          "output_type": "execute_result",
          "data": {
            "text/plain": [
              "((3279, 1558), (3279, 490))"
            ]
          },
          "metadata": {},
          "execution_count": 10
        }
      ]
    },
    {
      "cell_type": "code",
      "source": [
        "selecao.pvalues_"
      ],
      "metadata": {
        "id": "X90uIDHoETXw",
        "colab": {
          "base_uri": "https://localhost:8080/"
        },
        "outputId": "e5f231cc-ef2f-4fd9-b0fb-f556c68a0410"
      },
      "execution_count": 11,
      "outputs": [
        {
          "output_type": "execute_result",
          "data": {
            "text/plain": [
              "array([2.14710304e-268, 0.00000000e+000, 8.98165813e-150, ...,\n",
              "       6.03353380e-041, 5.63437216e-012, 9.37945775e-002])"
            ]
          },
          "metadata": {},
          "execution_count": 11
        }
      ]
    },
    {
      "cell_type": "code",
      "source": [
        "len(selecao.pvalues_)"
      ],
      "metadata": {
        "id": "UnarLfrgETao",
        "colab": {
          "base_uri": "https://localhost:8080/"
        },
        "outputId": "1b31eb82-0919-4141-a97a-7c1e6b0b5aab"
      },
      "execution_count": 12,
      "outputs": [
        {
          "output_type": "execute_result",
          "data": {
            "text/plain": [
              "1558"
            ]
          },
          "metadata": {},
          "execution_count": 12
        }
      ]
    },
    {
      "cell_type": "code",
      "source": [
        "# selecionando as colunas (true)\n",
        "colunas = selecao.get_support()\n",
        "colunas"
      ],
      "metadata": {
        "colab": {
          "base_uri": "https://localhost:8080/"
        },
        "id": "w9-fXvguDUgD",
        "outputId": "b9e9dd67-8168-4dea-de64-4858dac859d9"
      },
      "execution_count": 13,
      "outputs": [
        {
          "output_type": "execute_result",
          "data": {
            "text/plain": [
              "array([ True,  True,  True, ...,  True,  True, False])"
            ]
          },
          "metadata": {},
          "execution_count": 13
        }
      ]
    },
    {
      "cell_type": "code",
      "source": [
        "indices = np.where(colunas == True)\n",
        "indices"
      ],
      "metadata": {
        "colab": {
          "base_uri": "https://localhost:8080/"
        },
        "id": "Tsj5soDyDUlW",
        "outputId": "1be2b745-ca44-4b72-b30f-255b3c75ecf6"
      },
      "execution_count": 14,
      "outputs": [
        {
          "output_type": "execute_result",
          "data": {
            "text/plain": [
              "(array([   0,    1,    2,    5,    9,   11,   14,   20,   21,   26,   31,\n",
              "          32,   34,   36,   49,   56,   58,   59,   64,   65,   69,   70,\n",
              "          86,   91,   95,   96,  102,  104,  105,  106,  113,  133,  134,\n",
              "         139,  155,  158,  163,  167,  172,  175,  180,  181,  183,  185,\n",
              "         186,  189,  190,  192,  193,  212,  224,  234,  235,  241,  242,\n",
              "         244,  246,  248,  249,  251,  259,  264,  265,  266,  267,  268,\n",
              "         269,  270,  274,  276,  278,  287,  290,  293,  298,  304,  307,\n",
              "         310,  312,  317,  319,  321,  329,  330,  336,  340,  341,  345,\n",
              "         346,  347,  350,  351,  355,  356,  357,  359,  361,  366,  367,\n",
              "         369,  370,  371,  372,  377,  381,  386,  388,  389,  398,  405,\n",
              "         406,  418,  420,  426,  427,  429,  430,  432,  434,  435,  440,\n",
              "         441,  451,  455,  457,  460,  465,  470,  472,  477,  478,  482,\n",
              "         486,  508,  511,  518,  521,  528,  530,  532,  533,  540,  542,\n",
              "         548,  551,  554,  556,  572,  573,  574,  576,  586,  595,  602,\n",
              "         622,  625,  627,  630,  638,  643,  648,  651,  653,  658,  661,\n",
              "         663,  666,  683,  688,  694,  700,  703,  704,  709,  711,  720,\n",
              "         723,  725,  729,  732,  734,  735,  738,  739,  744,  759,  762,\n",
              "         772,  773,  774,  783,  793,  800,  807,  809,  812,  813,  819,\n",
              "         825,  828,  840,  848,  849,  860,  863,  869,  870,  873,  874,\n",
              "         875,  884,  890,  895,  914,  916,  917,  919,  925,  927,  930,\n",
              "         938,  942,  943,  944,  947,  948,  950,  951,  955,  960,  962,\n",
              "         963,  967,  968,  969,  972,  973,  976,  977,  983,  986,  987,\n",
              "         990,  992,  993, 1002, 1006, 1007, 1008, 1009, 1010, 1014, 1015,\n",
              "        1016, 1017, 1018, 1022, 1024, 1026, 1035, 1040, 1041, 1042, 1043,\n",
              "        1045, 1046, 1047, 1048, 1049, 1052, 1054, 1055, 1057, 1058, 1059,\n",
              "        1060, 1061, 1062, 1065, 1073, 1075, 1081, 1084, 1088, 1089, 1090,\n",
              "        1092, 1097, 1100, 1102, 1108, 1110, 1112, 1115, 1116, 1118, 1122,\n",
              "        1125, 1128, 1129, 1130, 1131, 1132, 1135, 1136, 1139, 1140, 1141,\n",
              "        1142, 1143, 1146, 1149, 1150, 1153, 1154, 1157, 1164, 1165, 1167,\n",
              "        1169, 1174, 1177, 1178, 1180, 1184, 1185, 1188, 1190, 1193, 1195,\n",
              "        1198, 1200, 1201, 1202, 1203, 1204, 1205, 1207, 1208, 1211, 1213,\n",
              "        1218, 1219, 1220, 1222, 1223, 1224, 1227, 1229, 1230, 1232, 1233,\n",
              "        1234, 1235, 1236, 1240, 1243, 1247, 1249, 1250, 1254, 1257, 1258,\n",
              "        1260, 1262, 1265, 1266, 1267, 1270, 1271, 1276, 1278, 1283, 1284,\n",
              "        1288, 1289, 1291, 1293, 1294, 1296, 1301, 1302, 1306, 1309, 1311,\n",
              "        1312, 1313, 1317, 1318, 1319, 1321, 1324, 1326, 1327, 1328, 1330,\n",
              "        1332, 1335, 1337, 1338, 1339, 1341, 1342, 1344, 1345, 1346, 1347,\n",
              "        1348, 1351, 1353, 1355, 1357, 1358, 1359, 1361, 1362, 1366, 1367,\n",
              "        1368, 1373, 1376, 1380, 1382, 1383, 1385, 1391, 1392, 1393, 1394,\n",
              "        1395, 1398, 1399, 1400, 1402, 1404, 1408, 1410, 1411, 1413, 1416,\n",
              "        1422, 1423, 1424, 1426, 1427, 1428, 1429, 1431, 1434, 1435, 1436,\n",
              "        1437, 1442, 1445, 1452, 1454, 1455, 1461, 1462, 1464, 1465, 1469,\n",
              "        1483, 1484, 1485, 1494, 1500, 1501, 1507, 1510, 1513, 1514, 1515,\n",
              "        1519, 1521, 1522, 1526, 1527, 1529, 1532, 1533, 1535, 1537, 1539,\n",
              "        1541, 1544, 1551, 1554, 1555, 1556]),)"
            ]
          },
          "metadata": {},
          "execution_count": 14
        }
      ]
    },
    {
      "cell_type": "code",
      "source": [
        "naive2 = GaussianNB()\n",
        "naive2.fit(X_novo, y)\n",
        "previsoes2 = naive2.predict(X_novo)\n",
        "accuracy_score(y, previsoes2)"
      ],
      "metadata": {
        "colab": {
          "base_uri": "https://localhost:8080/"
        },
        "id": "MS4GRbdiEABS",
        "outputId": "a6ef90f7-9b3d-4af1-dac2-56909c817ef7"
      },
      "execution_count": 15,
      "outputs": [
        {
          "output_type": "execute_result",
          "data": {
            "text/plain": [
              "0.9701128392802684"
            ]
          },
          "metadata": {},
          "execution_count": 15
        }
      ]
    }
  ]
}